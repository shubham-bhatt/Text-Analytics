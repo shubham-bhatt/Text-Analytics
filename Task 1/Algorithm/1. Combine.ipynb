{
 "cells": [
  {
   "cell_type": "code",
   "execution_count": null,
   "metadata": {},
   "outputs": [],
   "source": [
    "from PyPDF2 import PdfFileMerger"
   ]
  },
  {
   "cell_type": "markdown",
   "metadata": {},
   "source": [
    "# First 5"
   ]
  },
  {
   "cell_type": "code",
   "execution_count": null,
   "metadata": {},
   "outputs": [],
   "source": [
    "a = 'A-systematic-review-and-critique-of-research-on--hea_2020_The-Leadership-Qua.pdf'\n",
    "b = 'Exploring-why-leaders-do-what-they-do--An-integrative-revie_2020_The-Leaders.pdf'\n",
    "c = 'Follower-transformation-as-the-linchpin-of-transformational_2020_The-Leaders.pdf'\n",
    "d = 'Functional-leadership-in-interteam-contexts--Understanding_2020_The-Leadersh.pdf'\n",
    "e = 'Leader-follower-transgressions--relationship-repair-strateg_2020_The-Leaders.pdf'"
   ]
  },
  {
   "cell_type": "code",
   "execution_count": null,
   "metadata": {},
   "outputs": [],
   "source": [
    "pdfs = [a,b,c,d,e]"
   ]
  },
  {
   "cell_type": "code",
   "execution_count": null,
   "metadata": {},
   "outputs": [],
   "source": [
    "merger = PdfFileMerger()"
   ]
  },
  {
   "cell_type": "code",
   "execution_count": null,
   "metadata": {},
   "outputs": [],
   "source": [
    "for pdf in pdfs:\n",
    "    merger.append(pdf)\n",
    "    \n",
    "merger.write(\"1.1 first5.pdf\")\n",
    "\n",
    "merger.close()"
   ]
  },
  {
   "cell_type": "markdown",
   "metadata": {},
   "source": [
    "# 6th to 10th"
   ]
  },
  {
   "cell_type": "code",
   "execution_count": null,
   "metadata": {},
   "outputs": [],
   "source": [
    "a = 'Leadership-of-socio-political-vanguards--A-review-and_2020_The-Leadership-Qu.pdf'\n",
    "b = 'Leadership-succession-in-different-types-of-organizations--_2020_The-Leaders.pdf'\n",
    "c = 'Leading-day-to-day--A-review-of-the-daily-causes-and-con_2020_The-Leadership.pdf'\n",
    "d = 'Leading-teams-in-the-digital-age--Four-perspectives-on-te_2020_The-Leadershi.pdf'\n",
    "e = 'Natural-experiments-in-leadership-research--An-introduc_2020_The-Leadership-.pdf'"
   ]
  },
  {
   "cell_type": "code",
   "execution_count": null,
   "metadata": {},
   "outputs": [],
   "source": [
    "pdfs = [a,b,c,d,e]"
   ]
  },
  {
   "cell_type": "code",
   "execution_count": null,
   "metadata": {},
   "outputs": [],
   "source": [
    "merger = PdfFileMerger()"
   ]
  },
  {
   "cell_type": "code",
   "execution_count": null,
   "metadata": {},
   "outputs": [],
   "source": [
    "for pdf in pdfs:\n",
    "    merger.append(pdf)\n",
    "    \n",
    "merger.write(\"1.2 second5.pdf\")\n",
    "\n",
    "merger.close()"
   ]
  },
  {
   "cell_type": "code",
   "execution_count": null,
   "metadata": {},
   "outputs": [],
   "source": []
  },
  {
   "cell_type": "code",
   "execution_count": null,
   "metadata": {},
   "outputs": [],
   "source": []
  },
  {
   "cell_type": "markdown",
   "metadata": {},
   "source": [
    "# 11th to 16th"
   ]
  },
  {
   "cell_type": "code",
   "execution_count": null,
   "metadata": {},
   "outputs": [],
   "source": [
    "a = 'State-of-the-science-review-of-leader-follower-dyad_2020_The-Leadership-Quar.pdf'\n",
    "b = 'The-Leadership-Quarterly-Yearly-Review--Comprehensive-and-i_2020_The-Leaders.pdf'\n",
    "c = 'The-Leadership-Quarterly-Yearly-Review--LQYR--for_2020_The-Leadership-Quarte.pdf'\n",
    "d = 'The-leadership-trilogy--A-review-of-the-third-decade-o_2020_The-Leadership-Q.pdf'\n",
    "e = 'Viva-la-evolution--Using-dual-strategies-theory-to-expla_2020_The-Leadership.pdf'"
   ]
  },
  {
   "cell_type": "code",
   "execution_count": null,
   "metadata": {},
   "outputs": [],
   "source": [
    "pdfs = [a,b,c,d,e]"
   ]
  },
  {
   "cell_type": "code",
   "execution_count": null,
   "metadata": {},
   "outputs": [],
   "source": [
    "merger = PdfFileMerger()"
   ]
  },
  {
   "cell_type": "code",
   "execution_count": null,
   "metadata": {},
   "outputs": [],
   "source": [
    "for pdf in pdfs:\n",
    "    merger.append(pdf)\n",
    "    \n",
    "merger.write(\"1.3 third5.pdf\")\n",
    "\n",
    "merger.close()"
   ]
  },
  {
   "cell_type": "code",
   "execution_count": null,
   "metadata": {},
   "outputs": [],
   "source": []
  }
 ],
 "metadata": {
  "kernelspec": {
   "display_name": "Python 3",
   "language": "python",
   "name": "python3"
  },
  "language_info": {
   "codemirror_mode": {
    "name": "ipython",
    "version": 3
   },
   "file_extension": ".py",
   "mimetype": "text/x-python",
   "name": "python",
   "nbconvert_exporter": "python",
   "pygments_lexer": "ipython3",
   "version": "3.7.4"
  }
 },
 "nbformat": 4,
 "nbformat_minor": 2
}
