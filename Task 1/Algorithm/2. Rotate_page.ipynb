{
 "cells": [
  {
   "cell_type": "code",
   "execution_count": 3,
   "metadata": {},
   "outputs": [],
   "source": [
    "# import PyPDF2"
   ]
  },
  {
   "cell_type": "markdown",
   "metadata": {},
   "source": [
    "# First 5"
   ]
  },
  {
   "cell_type": "code",
   "execution_count": 9,
   "metadata": {},
   "outputs": [],
   "source": [
    "# a = [2,3,4,5,47,48,49,50,51,52]\n",
    "# File = open('1.1 first5.pdf', 'rb')\n",
    "# pdfReader = PyPDF2.PdfFileReader(File)\n",
    "# pdfWriter = PyPDF2.PdfFileWriter()\n",
    "\n",
    "\n",
    "# for i in range(pdfReader.getNumPages()):\n",
    "#     if i not in a:\n",
    "#         page = pdfReader.getPage(i)\n",
    "#         pdfWriter.addPage(page)\n",
    "#     else:\n",
    "#         page2 = pdfReader.getPage(i)\n",
    "#         page2.rotateClockwise(90)\n",
    "#         pdfWriter.addPage(page2)\n",
    "    \n",
    "#     RotatedFile = open('2.1 R_First5.pdf', 'wb')\n",
    "#     pdfWriter.write(RotatedFile)\n",
    "#     RotatedFile.close()\n",
    "\n",
    "# File.close()\n"
   ]
  },
  {
   "cell_type": "code",
   "execution_count": null,
   "metadata": {},
   "outputs": [],
   "source": []
  },
  {
   "cell_type": "code",
   "execution_count": null,
   "metadata": {},
   "outputs": [],
   "source": []
  },
  {
   "cell_type": "code",
   "execution_count": null,
   "metadata": {},
   "outputs": [],
   "source": []
  },
  {
   "cell_type": "markdown",
   "metadata": {},
   "source": [
    "# 6th to 10th pdf"
   ]
  },
  {
   "cell_type": "code",
   "execution_count": 6,
   "metadata": {},
   "outputs": [],
   "source": [
    "a = [14,15,16,36,37,38,39,40,80,81,82,83]\n",
    "File = open('1.2 second5.pdf', 'rb')\n",
    "pdfReader = PyPDF2.PdfFileReader(File)\n",
    "pdfWriter = PyPDF2.PdfFileWriter()\n",
    "\n",
    "\n",
    "for i in range(pdfReader.getNumPages()):\n",
    "    if i not in a:\n",
    "        page = pdfReader.getPage(i)\n",
    "        pdfWriter.addPage(page)\n",
    "    else:\n",
    "        page2 = pdfReader.getPage(i)\n",
    "        page2.rotateClockwise(90)\n",
    "        pdfWriter.addPage(page2)\n",
    "    \n",
    "    RotatedFile = open('2.2 R_Second5.pdf', 'wb')\n",
    "    pdfWriter.write(RotatedFile)\n",
    "    RotatedFile.close()\n",
    "\n",
    "File.close()\n"
   ]
  },
  {
   "cell_type": "markdown",
   "metadata": {},
   "source": [
    "# 11 to 16th pdf"
   ]
  },
  {
   "cell_type": "code",
   "execution_count": 8,
   "metadata": {},
   "outputs": [],
   "source": [
    "# a = [26,27,35,36,37]\n",
    "# File = open('1.3 third5.pdf', 'rb')\n",
    "# pdfReader = PyPDF2.PdfFileReader(File)\n",
    "# pdfWriter = PyPDF2.PdfFileWriter()\n",
    "\n",
    "\n",
    "# for i in range(pdfReader.getNumPages()):\n",
    "#     if i not in a:\n",
    "#         page = pdfReader.getPage(i)\n",
    "#         pdfWriter.addPage(page)\n",
    "#     else:\n",
    "#         page2 = pdfReader.getPage(i)\n",
    "#         page2.rotateClockwise(90)\n",
    "#         pdfWriter.addPage(page2)\n",
    "    \n",
    "#     RotatedFile = open('2.3 R_Third5.pdf', 'wb')\n",
    "#     pdfWriter.write(RotatedFile)\n",
    "#     RotatedFile.close()\n",
    "\n",
    "# File.close()\n"
   ]
  },
  {
   "cell_type": "code",
   "execution_count": null,
   "metadata": {},
   "outputs": [],
   "source": []
  }
 ],
 "metadata": {
  "kernelspec": {
   "display_name": "Python 3",
   "language": "python",
   "name": "python3"
  },
  "language_info": {
   "codemirror_mode": {
    "name": "ipython",
    "version": 3
   },
   "file_extension": ".py",
   "mimetype": "text/x-python",
   "name": "python",
   "nbconvert_exporter": "python",
   "pygments_lexer": "ipython3",
   "version": "3.7.4"
  }
 },
 "nbformat": 4,
 "nbformat_minor": 2
}
